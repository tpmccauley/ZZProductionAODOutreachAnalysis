{
 "cells": [
  {
   "cell_type": "code",
   "execution_count": 1,
   "metadata": {},
   "outputs": [],
   "source": [
    "import uproot4\n",
    "import awkward as ak\n",
    "import vector\n",
    "\n",
    "import numpy as np\n",
    "import matplotlib.pyplot as plt\n",
    "\n",
    "import particle\n",
    "import hepunits"
   ]
  },
  {
   "cell_type": "code",
   "execution_count": 3,
   "metadata": {},
   "outputs": [
    {
     "name": "stdout",
     "output_type": "stream",
     "text": [
      "awkward version 1.7.0\n"
     ]
    }
   ],
   "source": [
    "print(\n",
    "    f'awkward version {ak.__version__}'\n",
    ")"
   ]
  },
  {
   "cell_type": "code",
   "execution_count": 6,
   "metadata": {},
   "outputs": [],
   "source": [
    "data = uproot4.open('MuonEG_Run2015D_nanoAOD.root:aod2nanoaod')"
   ]
  },
  {
   "cell_type": "code",
   "execution_count": 7,
   "metadata": {},
   "outputs": [
    {
     "name": "stdout",
     "output_type": "stream",
     "text": [
      "name                 | typename                 | interpretation                \n",
      "---------------------+--------------------------+-------------------------------\n",
      "run                  | int32_t                  | AsDtype('>i4')\n",
      "luminosityBlock      | uint32_t                 | AsDtype('>u4')\n",
      "event                | uint64_t                 | AsDtype('>u8')\n",
      "HLT_IsoMu24_eta2p1   | bool                     | AsDtype('bool')\n",
      "HLT_IsoMu24          | bool                     | AsDtype('bool')\n",
      "HLT_IsoMu17_eta2p... | bool                     | AsDtype('bool')\n",
      "nMuon                | uint32_t                 | AsDtype('>u4')\n",
      "Muon_pt              | float[]                  | AsJagged(AsDtype('>f4'))\n",
      "Muon_eta             | float[]                  | AsJagged(AsDtype('>f4'))\n",
      "Muon_phi             | float[]                  | AsJagged(AsDtype('>f4'))\n",
      "Muon_mass            | float[]                  | AsJagged(AsDtype('>f4'))\n",
      "Muon_charge          | int32_t[]                | AsJagged(AsDtype('>i4'))\n",
      "Muon_pfRelIso03_all  | float[]                  | AsJagged(AsDtype('>f4'))\n",
      "Muon_pfRelIso04_all  | float[]                  | AsJagged(AsDtype('>f4'))\n",
      "Muon_tightId         | bool[]                   | AsJagged(AsDtype('bool'))\n",
      "Muon_softId          | bool[]                   | AsJagged(AsDtype('bool'))\n",
      "Muon_dxy             | float[]                  | AsJagged(AsDtype('>f4'))\n",
      "Muon_dxyErr          | float[]                  | AsJagged(AsDtype('>f4'))\n",
      "Muon_dz              | float[]                  | AsJagged(AsDtype('>f4'))\n",
      "Muon_dzErr           | float[]                  | AsJagged(AsDtype('>f4'))\n",
      "Muon_jetIdx          | int32_t[]                | AsJagged(AsDtype('>i4'))\n",
      "Muon_genPartIdx      | int32_t[]                | AsJagged(AsDtype('>i4'))\n",
      "nElectron            | uint32_t                 | AsDtype('>u4')\n",
      "Electron_pt          | float[]                  | AsJagged(AsDtype('>f4'))\n",
      "Electron_eta         | float[]                  | AsJagged(AsDtype('>f4'))\n",
      "Electron_phi         | float[]                  | AsJagged(AsDtype('>f4'))\n",
      "Electron_mass        | float[]                  | AsJagged(AsDtype('>f4'))\n",
      "Electron_charge      | int32_t[]                | AsJagged(AsDtype('>i4'))\n",
      "Electron_pfRelIso... | float[]                  | AsJagged(AsDtype('>f4'))\n",
      "Electron_dxy         | float[]                  | AsJagged(AsDtype('>f4'))\n",
      "Electron_dxyErr      | float[]                  | AsJagged(AsDtype('>f4'))\n",
      "Electron_dz          | float[]                  | AsJagged(AsDtype('>f4'))\n",
      "Electron_dzErr       | float[]                  | AsJagged(AsDtype('>f4'))\n",
      "Electron_cutBasedId  | bool[]                   | AsJagged(AsDtype('bool'))\n",
      "Electron_pfId        | bool[]                   | AsJagged(AsDtype('bool'))\n",
      "Electron_jetIdx      | int32_t[]                | AsJagged(AsDtype('>i4'))\n",
      "Electron_genPartIdx  | int32_t[]                | AsJagged(AsDtype('>i4'))\n"
     ]
    }
   ],
   "source": [
    "data['Events'].show()"
   ]
  },
  {
   "cell_type": "code",
   "execution_count": 8,
   "metadata": {},
   "outputs": [
    {
     "data": {
      "text/plain": [
       "10000 * {\"run\": int32, \"luminosityBlock\": uint32, \"event\": uint64, \"HLT_IsoMu24_eta2p1\": bool, \"HLT_IsoMu24\": bool, \"HLT_IsoMu17_eta2p1_LooseIsoPFTau20\": bool, \"nMuon\": uint32, \"nElectron\": uint32, \"Muon\": var * {\"pt\": float32, \"eta\": float32, \"phi\": float32, \"mass\": float32, \"charge\": int32, \"pfRelIso03_all\": float32, \"pfRelIso04_all\": float32, \"tightId\": bool, \"softId\": bool, \"dxy\": float32, \"dxyErr\": float32, \"dz\": float32, \"dzErr\": float32, \"jetIdx\": int32, \"genPartIdx\": int32}, \"Electron\": var * {\"pt\": float32, \"eta\": float32, \"phi\": float32, \"mass\": float32, \"charge\": int32, \"pfRelIso03_all\": float32, \"dxy\": float32, \"dxyErr\": float32, \"dz\": float32, \"dzErr\": float32, \"cutBasedId\": bool, \"pfId\": bool, \"jetIdx\": int32, \"genPartIdx\": int32}}"
      ]
     },
     "execution_count": 8,
     "metadata": {},
     "output_type": "execute_result"
    }
   ],
   "source": [
    "events = data['Events'].arrays(library=\"ak\", how=\"zip\")\n",
    "ak.type(events)"
   ]
  },
  {
   "cell_type": "code",
   "execution_count": 9,
   "metadata": {},
   "outputs": [
    {
     "data": {
      "text/plain": [
       "Text(0.5, 0, '# muons')"
      ]
     },
     "execution_count": 9,
     "metadata": {},
     "output_type": "execute_result"
    },
    {
     "data": {
      "image/png": "[encoded data removed]",
      "text/plain": [
       "<Figure size 432x288 with 1 Axes>"
      ]
     },
     "metadata": {
      "needs_background": "light"
     },
     "output_type": "display_data"
    }
   ],
   "source": [
    "n,b,_ = plt.hist(events.nMuon, histtype='step', bins=20, range=(0,20))\n",
    "plt.xlabel('# muons')"
   ]
  },
  {
   "cell_type": "code",
   "execution_count": 10,
   "metadata": {},
   "outputs": [
    {
     "data": {
      "text/plain": [
       "Text(0.5, 0, '# electrons')"
      ]
     },
     "execution_count": 10,
     "metadata": {},
     "output_type": "execute_result"
    },
    {
     "data": {
      "image/png": "[encoded data removed]",
      "text/plain": [
       "<Figure size 432x288 with 1 Axes>"
      ]
     },
     "metadata": {
      "needs_background": "light"
     },
     "output_type": "display_data"
    }
   ],
   "source": [
    "n,b,_ = plt.hist(events.nElectron, histtype='step', bins=20, range=(0,20))\n",
    "plt.xlabel('# electrons')"
   ]
  },
  {
   "cell_type": "code",
   "execution_count": 11,
   "metadata": {},
   "outputs": [],
   "source": [
    "events['Muon', 'ip3d'] = np.sqrt(\n",
    "    events.Muon.dxy*events.Muon.dxy + \n",
    "    events.Muon.dz*events.Muon.dz\n",
    ")\n",
    "\n",
    "events['Electron', 'ip3d'] = np.sqrt(\n",
    "    events.Electron.dxy*events.Electron.dxy +\n",
    "    events.Electron.dz*events.Electron.dz\n",
    ")\n",
    "\n",
    "events['Muon', 'sip3d'] = np.sqrt(\n",
    "    events.Muon.dxyErr*events.Muon.dxyErr +\n",
    "    events.Muon.dzErr*events.Muon.dzErr\n",
    ")\n",
    "\n",
    "events['Electron', 'sip3d'] = np.sqrt(\n",
    "    events.Electron.dxyErr*events.Electron.dxyErr +\n",
    "    events.Electron.dzErr*events.Electron.dzErr\n",
    ")\n",
    "\n",
    "events['Muon', 'sip3d'] = events.Muon.ip3d / events.Muon.sip3d\n",
    "events['Electron', 'sip3d'] = events.Electron.ip3d / events.Electron.sip3d"
   ]
  },
  {
   "cell_type": "code",
   "execution_count": 12,
   "metadata": {},
   "outputs": [],
   "source": [
    "fourMuons = events[\n",
    "    (events.nMuon >= 4) &\n",
    "    ak.all(events.Muon.pt > 5, axis=1) &\n",
    "    ak.all(abs(events.Muon.eta) < 2.4, axis=1) &\n",
    "    ak.all(events.Muon.dxy < 0.5, axis=1) &\n",
    "    ak.all(events.Muon.dz < 1.0, axis=1) &\n",
    "    ak.all(events.Muon.sip3d < 4, axis=1) \n",
    "]\n",
    "\n",
    "fourElectrons = events[\n",
    "    (events.nElectron >= 4) & \n",
    "    ak.all(events.Electron.pt > 7, axis=1) &\n",
    "    ak.all(abs(events.Electron.eta) < 2.5, axis=1) &\n",
    "    ak.all(events.Electron.dxy < 0.5, axis=1) &\n",
    "    ak.all(events.Electron.dz < 1.0, axis=1) &\n",
    "    ak.all(events.Electron.sip3d < 4, axis=1) \n",
    "]\n",
    "\n",
    "twoMuonsTwoElectrons = events[\n",
    "    (events.nElectron > 1) & (events.nMuon > 1) \n",
    "]\n",
    "\n",
    "twoMuonsTwoElectrons = twoMuonsTwoElectrons[\n",
    "    ak.all(twoMuonsTwoElectrons.Electron.pt > 7, axis=1) & \n",
    "    ak.all(twoMuonsTwoElectrons.Muon.pt > 5, axis=1) &\n",
    "    ak.all(abs(twoMuonsTwoElectrons.Electron.eta) < 2.5, axis=1) & \n",
    "    ak.all(abs(twoMuonsTwoElectrons.Muon.eta) < 2.4, axis=1) \n",
    "]"
   ]
  },
  {
   "cell_type": "code",
   "execution_count": 13,
   "metadata": {},
   "outputs": [],
   "source": [
    "fourMuons = fourMuons[\n",
    "    fourMuons.nMuon == 4\n",
    "]\n",
    "\n",
    "fourElectrons = fourElectrons[\n",
    "    fourElectrons.nElectron == 4\n",
    "]\n",
    "\n",
    "twoMuonsTwoElectrons = twoMuonsTwoElectrons[\n",
    "    (twoMuonsTwoElectrons.nMuon == 2) &\n",
    "    (twoMuonsTwoElectrons.nElectron == 2)\n",
    "]"
   ]
  },
  {
   "cell_type": "code",
   "execution_count": 14,
   "metadata": {},
   "outputs": [],
   "source": [
    "fourMuons = fourMuons[\n",
    "    ak.sum(fourMuons.Muon.charge, axis=1) == 0\n",
    "]\n",
    "\n",
    "fourElectrons = fourElectrons[\n",
    "    ak.sum(fourElectrons.Electron.charge, axis=1) == 0\n",
    "]\n",
    "\n",
    "twoMuonsTwoElectrons = twoMuonsTwoElectrons[\n",
    "    (ak.sum(twoMuonsTwoElectrons.Muon.charge, axis=1) == 0) &\n",
    "    (ak.sum(twoMuonsTwoElectrons.Electron.charge, axis=1) == 0)\n",
    "]"
   ]
  },
  {
   "cell_type": "code",
   "execution_count": 15,
   "metadata": {},
   "outputs": [
    {
     "data": {
      "text/plain": [
       "(7, 3, 29)"
      ]
     },
     "execution_count": 15,
     "metadata": {},
     "output_type": "execute_result"
    }
   ],
   "source": [
    "len(fourMuons), len(fourElectrons), len(twoMuonsTwoElectrons)"
   ]
  },
  {
   "cell_type": "markdown",
   "metadata": {},
   "source": [
    "**TO-DO**: all leptons are required to have a relative isolation < 0.35 and to satisfy tight ID requirements"
   ]
  },
  {
   "cell_type": "code",
   "execution_count": 16,
   "metadata": {},
   "outputs": [
    {
     "name": "stdout",
     "output_type": "stream",
     "text": [
      "[<Array [16.1, 61.5, 13.6, 13.5] type='4 * float32'>, <Array [16.3, 8.91, 8.4, 39] type='4 * float32'>, <Array [8.62, 12.9, 25.1, 49.6] type='4 * float32'>]\n"
     ]
    }
   ],
   "source": [
    "print(\n",
    "    [pt for pt in fourElectrons.Electron.pt]\n",
    ")"
   ]
  },
  {
   "cell_type": "markdown",
   "metadata": {},
   "source": [
    "It doesn't seem (as it should?) that the muons and electrons are sorted by pt. Perhaps something got lost in the filtering and/or conversion to array."
   ]
  },
  {
   "cell_type": "code",
   "execution_count": 17,
   "metadata": {},
   "outputs": [
    {
     "name": "stdout",
     "output_type": "stream",
     "text": [
      "[True, True, True]\n"
     ]
    }
   ],
   "source": [
    "print(\n",
    "    [ak.count_nonzero(e) > 1 for e in fourElectrons.Electron.pt > 10]\n",
    ")"
   ]
  },
  {
   "cell_type": "code",
   "execution_count": 18,
   "metadata": {},
   "outputs": [],
   "source": [
    "fourMuons = fourMuons[\n",
    "    ak.any(fourMuons.Muon.pt > 20, axis=1)\n",
    "]\n",
    "\n",
    "fourElectrons = fourElectrons[\n",
    "    ak.any(fourElectrons.Electron.pt > 20, axis=1)\n",
    "]\n",
    "\n",
    "twoMuonsTwoElectrons = twoMuonsTwoElectrons[\n",
    "    ak.any(twoMuonsTwoElectrons.Electron.pt > 20, axis=1) |\n",
    "    ak.any(twoMuonsTwoElectrons.Muon.pt > 20, axis=1)\n",
    "]"
   ]
  },
  {
   "cell_type": "code",
   "execution_count": 19,
   "metadata": {},
   "outputs": [],
   "source": [
    "fourMuons = fourMuons[\n",
    "    [ak.count_nonzero(e) > 1 for e in fourMuons.Muon.pt > 10]\n",
    "]\n",
    "\n",
    "fourElectrons = fourElectrons[\n",
    "    [ak.count_nonzero(e) > 1 for e in fourElectrons.Electron.pt > 10]\n",
    "]"
   ]
  },
  {
   "cell_type": "code",
   "execution_count": 20,
   "metadata": {},
   "outputs": [
    {
     "data": {
      "text/plain": [
       "(5, 3, 23)"
      ]
     },
     "execution_count": 20,
     "metadata": {},
     "output_type": "execute_result"
    }
   ],
   "source": [
    "len(fourMuons), len(fourElectrons), len(twoMuonsTwoElectrons)"
   ]
  },
  {
   "cell_type": "markdown",
   "metadata": {},
   "source": [
    "**TO-DO**: leptons are required to be separated by $\\Delta R(l_{1}, l_{2}) > 0.02$ and muons and electrons are required to be separated by $\\Delta R(e, \\mu) > 0.05$"
   ]
  },
  {
   "cell_type": "markdown",
   "metadata": {},
   "source": [
    "**TO-DO**: $m_{l_{1}l_{2}} >$ 4 GeV"
   ]
  },
  {
   "cell_type": "markdown",
   "metadata": {},
   "source": [
    "From the analysis note AN2016_029_v11:\n",
    "\n",
    "\"Z candidates are build using two oppositely charged leptons of the same flavor. Each pair\n",
    "is retained if it satisfies 4 < $m_{Z}$ < 120 GeV. All possible four-lepton candidates in an event\n",
    "are then considered. Within each candidate, the dilepton pair with invariant mass closest to\n",
    "nominal $m_{Z}$ is designated $Z_{1}$, the other $Z_{2}$. The event is kept if 40 < $m_{Z1}$ < 120 GeV, 4 < $m_{Z2}$ < 120GeV.\""
   ]
  },
  {
   "cell_type": "code",
   "execution_count": 21,
   "metadata": {},
   "outputs": [],
   "source": [
    "vector.register_awkward()\n",
    "\n",
    "four_vectors = ak.Array(\n",
    "    {\n",
    "        \"pt\": fourElectrons.Electron.pt,\n",
    "        \"eta\": fourElectrons.Electron.eta,\n",
    "        \"phi\": fourElectrons.Electron.phi,\n",
    "        \"mass\": fourElectrons.Electron.mass,\n",
    "        \"charge\": fourElectrons.Electron.charge\n",
    "    }, with_name=\"Momentum4D\"\n",
    ")"
   ]
  },
  {
   "cell_type": "code",
   "execution_count": 22,
   "metadata": {},
   "outputs": [
    {
     "data": {
      "text/plain": [
       "<MomentumArray4D [{pt: [16.1, 61.5, 13.6, ... -1, -1]}] type='3 * Momentum4D[\"pt...'>"
      ]
     },
     "execution_count": 22,
     "metadata": {},
     "output_type": "execute_result"
    }
   ],
   "source": [
    "four_vectors"
   ]
  },
  {
   "cell_type": "markdown",
   "metadata": {},
   "source": [
    "**NOTE**: The above MomentumArray4D is the \"proper\" way to handle invariant mass and deltaR but need to think about how best to use. For now, use the \"old way\"."
   ]
  },
  {
   "cell_type": "code",
   "execution_count": 24,
   "metadata": {},
   "outputs": [],
   "source": [
    "electrons = ak.zip({\n",
    "    \"pt\": fourElectrons.Electron.pt,\n",
    "    \"eta\": fourElectrons.Electron.eta,\n",
    "    \"phi\": fourElectrons.Electron.phi,\n",
    "    \"mass\": fourElectrons.Electron.mass,\n",
    "    \"charge\": fourElectrons.Electron.charge\n",
    "})\n",
    "\n",
    "muons = ak.zip({\n",
    "    \"pt\": fourMuons.Muon.pt,\n",
    "    \"eta\": fourMuons.Muon.eta,\n",
    "    \"phi\": fourMuons.Muon.phi,\n",
    "    \"mass\": fourMuons.Muon.mass,\n",
    "    \"charge\": fourMuons.Muon.charge\n",
    "})"
   ]
  },
  {
   "cell_type": "code",
   "execution_count": 25,
   "metadata": {},
   "outputs": [],
   "source": [
    "electron_pairs = ak.combinations(electrons, 2)\n",
    "e1, e2 = ak.unzip(electron_pairs)\n",
    "\n",
    "muon_pairs = ak.combinations(muons, 2)\n",
    "mu1, mu2 = ak.unzip(muon_pairs)"
   ]
  },
  {
   "cell_type": "code",
   "execution_count": 26,
   "metadata": {},
   "outputs": [],
   "source": [
    "ee_mass = np.sqrt(2*e1.pt*e2.pt*(np.cosh(e1.eta - e2.eta) - np.cos(e1.phi - e2.phi)))\n",
    "mumu_mass = np.sqrt(2*mu1.pt*mu2.pt*(np.cosh(mu1.eta - mu2.eta) - np.cos(mu1.phi - mu2.phi)))"
   ]
  },
  {
   "cell_type": "code",
   "execution_count": 27,
   "metadata": {},
   "outputs": [],
   "source": [
    "ee_mass = ee_mass[e1.charge != e2.charge]\n",
    "mumu_mass = mumu_mass[mu1.charge != mu2.charge]"
   ]
  },
  {
   "cell_type": "code",
   "execution_count": 28,
   "metadata": {},
   "outputs": [
    {
     "name": "stdout",
     "output_type": "stream",
     "text": [
      "[82.6, 61.2, 51.4]\n"
     ]
    }
   ],
   "source": [
    "mZ = particle.Particle.findall(\"Z0\")[0].mass / hepunits.GeV\n",
    "\n",
    "closest_to_mZ = ak.argmin(abs(ee_mass - mZ), axis=1, keepdims=True)\n",
    "\n",
    "masses = ak.ravel(ee_mass[closest_to_mZ])\n",
    "\n",
    "print(\n",
    "    masses\n",
    ")\n",
    "\n",
    "closest_to_mZ = ak.argmin(abs(mumu_mass - mZ), axis=1, keepdims=True)\n",
    "\n",
    "masses = np.append(masses, ak.ravel(mumu_mass[closest_to_mZ]))"
   ]
  },
  {
   "cell_type": "code",
   "execution_count": 29,
   "metadata": {},
   "outputs": [
    {
     "data": {
      "text/plain": [
       "Text(0.5, 0, 'mZ1 [GeV]')"
      ]
     },
     "execution_count": 29,
     "metadata": {},
     "output_type": "execute_result"
    },
    {
     "data": {
      "image/png": "[encoded data removed]",
      "text/plain": [
       "<Figure size 432x288 with 1 Axes>"
      ]
     },
     "metadata": {
      "needs_background": "light"
     },
     "output_type": "display_data"
    }
   ],
   "source": [
    "n,b,_ = plt.hist(\n",
    "    masses, \n",
    "    histtype='step', \n",
    "    bins=120, range=(0,120)\n",
    ")\n",
    "\n",
    "plt.xlabel('mZ1 [GeV]')"
   ]
  },
  {
   "cell_type": "markdown",
   "metadata": {},
   "source": []
  },
  {
   "cell_type": "markdown",
   "metadata": {},
   "source": [
    "**TO-DO**: handle 2e2mu "
   ]
  },
  {
   "cell_type": "code",
   "execution_count": null,
   "metadata": {},
   "outputs": [],
   "source": []
  }
 ],
 "metadata": {
  "kernelspec": {
   "display_name": "Python 3",
   "language": "python",
   "name": "python3"
  },
  "language_info": {
   "codemirror_mode": {
    "name": "ipython",
    "version": 3
   },
   "file_extension": ".py",
   "mimetype": "text/x-python",
   "name": "python",
   "nbconvert_exporter": "python",
   "pygments_lexer": "ipython3",
   "version": "3.8.3"
  }
 },
 "nbformat": 4,
 "nbformat_minor": 4
}
